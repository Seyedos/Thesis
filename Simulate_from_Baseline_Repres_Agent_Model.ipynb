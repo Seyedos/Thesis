{
 "cells": [
  {
   "cell_type": "code",
   "execution_count": 14,
   "metadata": {},
   "outputs": [],
   "source": [
    "# Import all the necessary packages\n",
    "\n",
    "import scipy as sc\n",
    "import numpy as np"
   ]
  },
  {
   "cell_type": "code",
   "execution_count": 40,
   "metadata": {},
   "outputs": [],
   "source": [
    "# Define all the functions needed\n",
    "\n",
    "def systemofeq(par,deltas):\n",
    "    # Summary: this function is needed to compute the solution of the baseline representative agent model\n",
    "    # Input: deltas; a guess for the solution of the model\n",
    "    #        par: a dictionary containing the parameters of the baseline model\n",
    "    # Output: eqs; a 4x1 vector that measures the distance to the solution (the solution needs to satisfy four equations)\n",
    "    delta_k = deltas[0];\n",
    "    delta_kz = deltas[1];\n",
    "    delta_ck = deltas[2];\n",
    "    delta_cz = deltas[3];\n",
    "    barr = (1-par.get(\"beta\"))/par.get(\"beta\");\n",
    "    bark = ((1-par.get(\"beta\")+par.get(\"delta\")*par.get(\"beta\"))/(par.get(\"beta\")*par.get(\"alpha\")))**(1/(par.get(\"alpha\")-1));\n",
    "    barw = (1-par.get(\"alpha\"))*(bark**par.get(\"alpha\"));\n",
    "    ybar = bark**par.get(\"alpha\");\n",
    "\n",
    "    eqs = np.zeros(4);\n",
    "    eqs[0]=bark*delta_k - bark/par.get(\"beta\") + barw*delta_ck + bark*delta_ck/par.get(\"beta\");\n",
    "    eqs[1]=bark**par.get(\"alpha\") - barw*delta_cz - bark*delta_cz/par.get(\"beta\") - bark*delta_kz;\n",
    "    eqs[2]=par.get(\"beta\")*(1-par.get(\"alpha\"))*(barr+par.get(\"delta\"))*delta_k + par.get(\"nu\")*delta_ck*delta_k-par.get(\"nu\")*delta_ck;\n",
    "    eqs[3]=par.get(\"nu\")*delta_ck*delta_kz + par.get(\"nu\")*delta_cz*par.get(\"rho\") + par.get(\"nu\")*delta_cz + par.get(\"beta\")*(barr+par.get(\"delta\"))*par.get(\"rho\") - par.get(\"beta\")*(1-par.get(\"alpha\"))*(barr+par.get(\"delta\"))*delta_kz;\n",
    "    return eqs\n",
    "\n",
    "\n",
    "def SimulateData(par,T):\n",
    "    # Summary: this function simulates data from the baseline representative agent mdodel\n",
    "    # Input: par; a dictionary containing the parameters of the baseline model\n",
    "    #        T; the number of datapoints you want to simulate\n",
    "    # Output: logk, logr, logc, logy:   Tx1 vectors with data simulated from the model\n",
    "    #         log k is the natural logarithm of capital, log r of interest rates, log c of consumption, log y of output\n",
    "    \n",
    "    #First: solve the model\n",
    "    deltainit = 0.01*np.ones(4);\n",
    "    fun = lambda x: systemofeq(par,x)\n",
    "    deltasol = sc.optimize.root(fun,deltainit); \n",
    "    deltassol=deltasol.x;\n",
    "    delta_k = deltassol[0];\n",
    "    delta_kz = deltassol[1];\n",
    "    delta_ck = deltassol[2];\n",
    "    delta_cz = deltassol[3];\n",
    "    # for the model solution, simulate data\n",
    "    rbar = (1-par.get(\"beta\"))/par.get(\"beta\");\n",
    "    kbar = ((1-par.get(\"beta\")+par.get(\"delta\")*par.get(\"beta\"))/(par.get(\"beta\")*par.get(\"alpha\")))**(1/(par.get(\"alpha\")-1));\n",
    "    wbar = (1-par.get(\"alpha\"))*kbar**par.get(\"alpha\");\n",
    "    ybar = kbar**par.get(\"alpha\");\n",
    "    cbar = wbar + kbar/par.get(\"beta\");\n",
    "    \n",
    "    eps  = np.sqrt(par.get(\"s2\"))*np.random.randn(T,1);\n",
    "    \n",
    "    z = np.zeros(T);\n",
    "    k = np.zeros(T);\n",
    "    c = np.zeros(T);\n",
    "    y = np.zeros(T);\n",
    "    r = np.zeros(T);\n",
    "    for t in range(T):\n",
    "        if t==0:\n",
    "            z[t] = eps[t];\n",
    "            k[t] = 0;\n",
    "        else:\n",
    "            z[t] = z[t-1]*par.get(\"rho\") + eps[t];\n",
    "            k[t] = delta_k*k[t-1]+delta_kz*z[t-1];\n",
    "        \n",
    "        c[t] = delta_ck*k[t]+delta_cz*z[t];\n",
    "        y[t] = z[t] + par.get(\"alpha\")*k[t];\n",
    "        r[t] = ((rbar+par.get(\"delta\"))/rbar)*z[t] + (par.get(\"alpha\")-1)*((rbar+par.get(\"delta\"))/rbar)*k[t];\n",
    "    \n",
    "    logk = np.log(kbar) + k ;\n",
    "    logc = np.log(cbar) + c ;\n",
    "    logy = np.log(ybar) + y ;\n",
    "    logr = np.log(rbar) + r ;\n",
    "    return logk, logr, logc, logy"
   ]
  },
  {
   "cell_type": "code",
   "execution_count": 41,
   "metadata": {},
   "outputs": [],
   "source": [
    "# Choose a parameter vector you want to simulate data for\n",
    "par = {\"rho\":0.7, \"s2\":0.011, \"alpha\":0.3, \"beta\":0.97, \"delta\":0.1, \"nu\":3}\n",
    "# Choose number of data points you want to simulate\n",
    "T = 100\n",
    "# Call function for simulation\n",
    "[logk, logr, logc, logy] = SimulateData(par,T)"
   ]
  },
  {
   "cell_type": "code",
   "execution_count": null,
   "metadata": {},
   "outputs": [],
   "source": []
  }
 ],
 "metadata": {
  "kernelspec": {
   "display_name": "Python 3",
   "language": "python",
   "name": "python3"
  },
  "language_info": {
   "codemirror_mode": {
    "name": "ipython",
    "version": 3
   },
   "file_extension": ".py",
   "mimetype": "text/x-python",
   "name": "python",
   "nbconvert_exporter": "python",
   "pygments_lexer": "ipython3",
   "version": "3.7.4"
  }
 },
 "nbformat": 4,
 "nbformat_minor": 2
}
